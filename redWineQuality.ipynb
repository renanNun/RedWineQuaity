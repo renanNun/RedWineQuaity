{
  "nbformat": 4,
  "nbformat_minor": 0,
  "metadata": {
    "colab": {
      "name": "redWineQuality.ipynb",
      "provenance": [],
      "collapsed_sections": [
        "ji6C8E8jyGfc"
      ],
      "mount_file_id": "196k3WNi0qOBMZ_qLkL_Gjs95A556mayc",
      "authorship_tag": "ABX9TyN997pb4LABhv0/4qIdbgKt"
    },
    "kernelspec": {
      "name": "python3",
      "display_name": "Python 3"
    }
  },
  "cells": [
    {
      "cell_type": "markdown",
      "metadata": {
        "id": "xtS9HonFnzcQ",
        "colab_type": "text"
      },
      "source": [
        "  # Red Wine Quality "
      ]
    },
    {
      "cell_type": "markdown",
      "metadata": {
        "id": "mVHjpwPFohmp",
        "colab_type": "text"
      },
      "source": [
        "Vinho tinto é uma bebida resultante da fermentação do suco ou mostro extraído de uvas pretas ou tintas.\n",
        "\n",
        "Neste notebook iremos visualizar graficamente seus aspectos fisico-químicos, bem como analisar através de modelos de machine learning suas relações."
      ]
    },
    {
      "cell_type": "code",
      "metadata": {
        "id": "T-Vr4YooqzH2",
        "colab_type": "code",
        "colab": {}
      },
      "source": [
        "#Importando Bibliotecas\n",
        "%matplotlib inline\n",
        "import pandas as pd #Biblioteca para importação de DataFrames\n",
        "import numpy as np #algebra\n",
        "import seaborn as sns #graficos mais atraentes\n",
        "import matplotlib.pyplot as plt #plotagem\n",
        "import random #seleção de valores aleatórios para plotagem"
      ],
      "execution_count": 0,
      "outputs": []
    },
    {
      "cell_type": "code",
      "metadata": {
        "id": "apjaw_VarlmN",
        "colab_type": "code",
        "colab": {
          "base_uri": "https://localhost:8080/",
          "height": 34
        },
        "outputId": "3fd83710-0bb0-4ad3-8ba1-bbedc5366b0a"
      },
      "source": [
        "#Biblioteca para importação de Dados do Google Drive\n",
        "from google.colab import drive\n",
        "\n",
        "drive.mount('/content/drive')"
      ],
      "execution_count": 73,
      "outputs": [
        {
          "output_type": "stream",
          "text": [
            "Drive already mounted at /content/drive; to attempt to forcibly remount, call drive.mount(\"/content/drive\", force_remount=True).\n"
          ],
          "name": "stdout"
        }
      ]
    },
    {
      "cell_type": "markdown",
      "metadata": {
        "id": "hRz4spIDrvn9",
        "colab_type": "text"
      },
      "source": [
        "Primeiramente iremos importar o arquivo csv a ser estudado"
      ]
    },
    {
      "cell_type": "code",
      "metadata": {
        "id": "oeIljU9Wq9xk",
        "colab_type": "code",
        "colab": {
          "base_uri": "https://localhost:8080/",
          "height": 97
        },
        "outputId": "a3c4c4e9-8b7b-43d2-c43c-715ecf9d3fd1"
      },
      "source": [
        "#Importando arquivo CSV\n",
        "url = '/content/drive/My Drive/Colab Notebooks/WINE QUALITY/DATA_ARCHIVE/winequality-red.csv'\n",
        "\n",
        "wine = pd.read_csv(url)\n",
        "wine.head(1)"
      ],
      "execution_count": 74,
      "outputs": [
        {
          "output_type": "execute_result",
          "data": {
            "text/html": [
              "<div>\n",
              "<style scoped>\n",
              "    .dataframe tbody tr th:only-of-type {\n",
              "        vertical-align: middle;\n",
              "    }\n",
              "\n",
              "    .dataframe tbody tr th {\n",
              "        vertical-align: top;\n",
              "    }\n",
              "\n",
              "    .dataframe thead th {\n",
              "        text-align: right;\n",
              "    }\n",
              "</style>\n",
              "<table border=\"1\" class=\"dataframe\">\n",
              "  <thead>\n",
              "    <tr style=\"text-align: right;\">\n",
              "      <th></th>\n",
              "      <th>fixed acidity</th>\n",
              "      <th>volatile acidity</th>\n",
              "      <th>citric acid</th>\n",
              "      <th>residual sugar</th>\n",
              "      <th>chlorides</th>\n",
              "      <th>free sulfur dioxide</th>\n",
              "      <th>total sulfur dioxide</th>\n",
              "      <th>density</th>\n",
              "      <th>pH</th>\n",
              "      <th>sulphates</th>\n",
              "      <th>alcohol</th>\n",
              "      <th>quality</th>\n",
              "    </tr>\n",
              "  </thead>\n",
              "  <tbody>\n",
              "    <tr>\n",
              "      <th>0</th>\n",
              "      <td>7.4</td>\n",
              "      <td>0.7</td>\n",
              "      <td>0.0</td>\n",
              "      <td>1.9</td>\n",
              "      <td>0.076</td>\n",
              "      <td>11.0</td>\n",
              "      <td>34.0</td>\n",
              "      <td>0.9978</td>\n",
              "      <td>3.51</td>\n",
              "      <td>0.56</td>\n",
              "      <td>9.4</td>\n",
              "      <td>5</td>\n",
              "    </tr>\n",
              "  </tbody>\n",
              "</table>\n",
              "</div>"
            ],
            "text/plain": [
              "   fixed acidity  volatile acidity  citric acid  ...  sulphates  alcohol  quality\n",
              "0            7.4               0.7          0.0  ...       0.56      9.4        5\n",
              "\n",
              "[1 rows x 12 columns]"
            ]
          },
          "metadata": {
            "tags": []
          },
          "execution_count": 74
        }
      ]
    },
    {
      "cell_type": "markdown",
      "metadata": {
        "id": "oV-5h_9eskEp",
        "colab_type": "text"
      },
      "source": [
        "Após o contato inicial com nossos dados, é necessário ser conhecer cada campo da tabela. Para isso será criado um dicionário de dados explicitando o nome da variável e seu real significado."
      ]
    },
    {
      "cell_type": "markdown",
      "metadata": {
        "id": "ji6C8E8jyGfc",
        "colab_type": "text"
      },
      "source": [
        "## Dicionário de Dados"
      ]
    },
    {
      "cell_type": "markdown",
      "metadata": {
        "id": "MmSYuCFYsvPA",
        "colab_type": "text"
      },
      "source": [
        "| Variável             \t| Definição                                                                                                                                             \t|\n",
        "|----------------------\t|-------------------------------------------------------------------------------------------------------------------------------------------------------\t|\n",
        "| fixed acidity        \t| Ácidos envolvidos na fabricação do vinho,<br>fixos ou não voláteis;                                                                                   \t|\n",
        "| volatile acidity     \t| Quantidade de ácido acético no vinho, que<br>em grandes concentrações pode levar ao desagradável<br>sabor de vinagre;                                 \t|\n",
        "| citric acid          \t| Encontrado em pequenas quantidades, o ácido cítrico <br>pode adicionar \"frescor\" e sabor aos vinhos;                                                  \t|\n",
        "| residual sugar       \t| Açúcar residual da fermentação, é raro encontrar<br>vinhos com menos de 1 grama/litro e vinhos com mais<br>de 45 gramas/litro são considerados doces; \t|\n",
        "| chlorides            \t| A quantidade de sal no vinho;                                                                                                                         \t|\n",
        "| free sulfur dioxide  \t| SO2, impede o crescimento microbiano e a oxidação <br>do vinho;                                                                                       \t|\n",
        "| total sulfur dioxide \t| Quantidade de SO2 livre e ligadas, em baixas concetrações<br>ele é indetectável, mas em altas se torna evidente<br>no sabor e no aroma do vinho;      \t|\n",
        "| density              \t| A densidade de água do vinho;                                                                                                                         \t|\n",
        "| pH                   \t| Descreve o quão ácido, ou o quão básico é o vinho<br>em uma escala de 0 à 14;                                                                         \t|\n",
        "| sulphates            \t| Aditivos, podem contribuir para aumentar o nível de SO2;                                                                                              \t|\n",
        "| alcohol              \t| A porcentagem de álcool contida no vinho;                                                                                                             \t|\n",
        "| quality              \t| Qualidade do vinho, em uma escala de 0 à 10;                                                                                                          \t|"
      ]
    },
    {
      "cell_type": "markdown",
      "metadata": {
        "id": "fa7diGWwyTWG",
        "colab_type": "text"
      },
      "source": [
        "## Visualização dos Dados"
      ]
    },
    {
      "cell_type": "code",
      "metadata": {
        "id": "XsLX2gYbyZZr",
        "colab_type": "code",
        "colab": {
          "base_uri": "https://localhost:8080/",
          "height": 255
        },
        "outputId": "e0bd045c-421a-434a-98ae-6e8afff99d68"
      },
      "source": [
        "#Informação sobre as colunas do Dataframe\n",
        "wine.info"
      ],
      "execution_count": 75,
      "outputs": [
        {
          "output_type": "execute_result",
          "data": {
            "text/plain": [
              "<bound method DataFrame.info of       fixed acidity  volatile acidity  citric acid  ...  sulphates  alcohol  quality\n",
              "0               7.4             0.700         0.00  ...       0.56      9.4        5\n",
              "1               7.8             0.880         0.00  ...       0.68      9.8        5\n",
              "2               7.8             0.760         0.04  ...       0.65      9.8        5\n",
              "3              11.2             0.280         0.56  ...       0.58      9.8        6\n",
              "4               7.4             0.700         0.00  ...       0.56      9.4        5\n",
              "...             ...               ...          ...  ...        ...      ...      ...\n",
              "1594            6.2             0.600         0.08  ...       0.58     10.5        5\n",
              "1595            5.9             0.550         0.10  ...       0.76     11.2        6\n",
              "1596            6.3             0.510         0.13  ...       0.75     11.0        6\n",
              "1597            5.9             0.645         0.12  ...       0.71     10.2        5\n",
              "1598            6.0             0.310         0.47  ...       0.66     11.0        6\n",
              "\n",
              "[1599 rows x 12 columns]>"
            ]
          },
          "metadata": {
            "tags": []
          },
          "execution_count": 75
        }
      ]
    },
    {
      "cell_type": "markdown",
      "metadata": {
        "id": "-nzM1VFsy4Ny",
        "colab_type": "text"
      },
      "source": [
        "Agora que conhecemos os dados, armazenados em cada coluna do dataframe, iremos buscar por valores nulos. Caso eles sejam encontrados eles serão tratados, caso não haja ocorrências iremos visualizar graficamente a relação entre os dados."
      ]
    },
    {
      "cell_type": "code",
      "metadata": {
        "id": "kP9ILlPrzIZA",
        "colab_type": "code",
        "colab": {
          "base_uri": "https://localhost:8080/",
          "height": 238
        },
        "outputId": "196a85e5-2a3a-4a72-b2c9-6c8c18799337"
      },
      "source": [
        "#Verifica se existe alguma ocorrência de dados nulos na tabela\n",
        "wine.isnull().sum()"
      ],
      "execution_count": 76,
      "outputs": [
        {
          "output_type": "execute_result",
          "data": {
            "text/plain": [
              "fixed acidity           0\n",
              "volatile acidity        0\n",
              "citric acid             0\n",
              "residual sugar          0\n",
              "chlorides               0\n",
              "free sulfur dioxide     0\n",
              "total sulfur dioxide    0\n",
              "density                 0\n",
              "pH                      0\n",
              "sulphates               0\n",
              "alcohol                 0\n",
              "quality                 0\n",
              "dtype: int64"
            ]
          },
          "metadata": {
            "tags": []
          },
          "execution_count": 76
        }
      ]
    },
    {
      "cell_type": "code",
      "metadata": {
        "id": "oDNRdHZdLkl7",
        "colab_type": "code",
        "colab": {}
      },
      "source": [
        "#Função Para Realização de Multi-plots de gráficos usando a Biblioteca Seanborn\n",
        "def multiplot(dataset, rows, cols, plot_type):\n",
        "   \n",
        "   #\n",
        "   column_names=dataset.columns.values\n",
        "\n",
        "   #\n",
        "   number_of_column=len(column_names)\n",
        "\n",
        "   #\n",
        "   fig, axarr=plt.subplots(rows,cols, figsize=(20,14))\n",
        "\n",
        "   #\n",
        "   counter = 0\n",
        "\n",
        "   for i in range(rows):\n",
        "     for j in range(cols):\n",
        "\n",
        "       if 'violin' in plot_type:\n",
        "         sns.violinplot(x='quality', y=column_names[counter],data=dataset, ax=axarr[i][j])\n",
        "       elif 'box'in plot_type :\n",
        "          sns.boxplot(x='quality', y=column_names[counter],data=dataset, ax=axarr[i][j])\n",
        "       elif 'point' in plot_type:\n",
        "           sns.pointplot(x='quality',y=column_names[counter],data=dataset, ax=axarr[i][j])\n",
        "       elif 'bar' in plot_type:\n",
        "            sns.barplot(x='quality',y=column_names[counter],data=dataset, ax=axarr[i][j])\n",
        "        \n",
        "       counter+=1\n",
        "       if counter==(number_of_column-1,):\n",
        "         break"
      ],
      "execution_count": 0,
      "outputs": []
    },
    {
      "cell_type": "code",
      "metadata": {
        "id": "CNJBWxzSPnGX",
        "colab_type": "code",
        "colab": {
          "base_uri": "https://localhost:8080/",
          "height": 826
        },
        "outputId": "a6c79c91-0778-4620-e2fc-00c4441e108a"
      },
      "source": [
        "multiplot(wine,4,3,'bar')"
      ],
      "execution_count": 78,
      "outputs": [
        {
          "output_type": "display_data",
          "data": {
            "image/png": "[encoded data removed]",
            "text/plain": [
              "<Figure size 1440x1008 with 12 Axes>"
            ]
          },
          "metadata": {
            "tags": []
          }
        }
      ]
    },
    {
      "cell_type": "markdown",
      "metadata": {
        "id": "gJYAy37gLlHK",
        "colab_type": "text"
      },
      "source": [
        "## Métodos de Machine Learning"
      ]
    }
  ]
}